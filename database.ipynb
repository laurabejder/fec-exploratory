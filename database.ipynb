{
 "cells": [
  {
   "cell_type": "markdown",
   "metadata": {},
   "source": [
    "# Python and R\n",
    "Notebook Setup"
   ]
  },
  {
   "cell_type": "code",
   "execution_count": null,
   "metadata": {},
   "outputs": [],
   "source": [
    "%load_ext rpy2.ipython\n",
    "%load_ext autoreload\n",
    "%autoreload 2\n",
    "\n",
    "%matplotlib inline  \n",
    "import pythonimports\n",
    "import psycopg2\n",
    "import pandas as pd"
   ]
  },
  {
   "cell_type": "code",
   "execution_count": null,
   "metadata": {},
   "outputs": [],
   "source": [
    "%%javascript\n",
    "// Disable auto-scrolling\n",
    "IPython.OutputArea.prototype._should_scroll = function(lines) {\n",
    "    return false;\n",
    "}"
   ]
  },
  {
   "cell_type": "markdown",
   "metadata": {},
   "source": [
    "# Load FEC Data\n",
    "\n",
    "Data is loaded from this FEC link:\n",
    "\n",
    "https://www.fec.gov/data/browse-data/?tab=bulk-data"
   ]
  },
  {
   "cell_type": "code",
   "execution_count": null,
   "metadata": {},
   "outputs": [],
   "source": [
    "conn = psycopg2.connect(\n",
    "    host=\"postgresfec.cnvthm1pgcw1.us-east-2.rds.amazonaws.com\",\n",
    "    database=\"fec\",\n",
    "    user=\"postgresfec\",\n",
    "    password=\"postgresfec\")\n",
    "\n",
    "cursor = conn.cursor()\n",
    "print(\"Database connected successfully\")"
   ]
  },
  {
   "cell_type": "code",
   "execution_count": null,
   "metadata": {},
   "outputs": [],
   "source": [
    "print(\"List of tables in the database; see documentation below:\")\n",
    "print(\"https://www.fec.gov/data/browse-data/?tab=bulk-data\")\n"
   ]
  },
  {
   "cell_type": "code",
   "execution_count": null,
   "metadata": {},
   "outputs": [],
   "source": [
    "cursor.execute(\n",
    "    \"\"\"SELECT table_name FROM information_schema.tables\n",
    "       WHERE table_schema = 'public'\"\"\")\n",
    "\n",
    "for table in cursor.fetchall():\n",
    "    print(table)\n"
   ]
  },
  {
   "cell_type": "code",
   "execution_count": null,
   "metadata": {},
   "outputs": [],
   "source": [
    "# Planned Parenthood committee transactions 2022\n",
    "sql = '''SELECT sum(oe.transaction_amt) \n",
    "FROM committee_master cm \n",
    "LEFT JOIN operating_expenditures oe \n",
    "\tON oe.file_year=cm.file_year AND oe.cmte_id=cm.cmte_id\n",
    "WHERE cm.cmte_nm LIKE '%PLANNED%PARENT%' AND cm.file_year=2022'''\n",
    "planned_parenthood_operating_expenditures = pd.read_sql(sql, con=conn)\n",
    "planned_parenthood_operating_expenditures.head(50)"
   ]
  },
  {
   "cell_type": "code",
   "execution_count": null,
   "metadata": {},
   "outputs": [],
   "source": [
    "# Planned Parenthood committee transactions 2010-2022\n",
    "sql = '''SELECT cm.cmte_id, cm.cmte_nm, ct.\"name\", cm.file_year, ct.other_id, sum(ct.transaction_amt)\n",
    "FROM committee_master cm \n",
    "LEFT JOIN committee_transactions ct ON ct.cmte_id=cm.cmte_id AND ct.file_year=cm.file_year\n",
    "WHERE cm.cmte_nm LIKE '%PLANNED%PARENT%' AND cm.file_year=2022 OR cm.cmte_nm LIKE '%PLANNED%PARENT%' AND cm.file_year=2020 OR cm.cmte_nm LIKE '%PLANNED%PARENT%' AND cm.file_year=2018 OR cm.cmte_nm LIKE '%PLANNED%PARENT%' AND cm.file_year=2016 OR cm.cmte_nm LIKE '%PLANNED%PARENT%' AND cm.file_year=2014 OR cm.cmte_nm LIKE '%PLANNED%PARENT%' AND cm.file_year=2012 OR cm.cmte_nm LIKE '%PLANNED%PARENT%' AND cm.file_year=2010\n",
    "GROUP BY cm.cmte_id, cm.cmte_nm, ct.\"name\", ct.other_id, cm.file_year\n",
    "ORDER BY SUM DESC NULLS LAST;'''\n",
    "planned_parenthood_committee_transactions = pd.read_sql(sql, con=conn)\n",
    "planned_parenthood_committee_transactions.head(5)"
   ]
  },
  {
   "cell_type": "code",
   "execution_count": null,
   "metadata": {},
   "outputs": [],
   "source": [
    "planned_parenthood_committee_transactions.to_csv('data/planned_parenthood_committee_transactions_2010_2022.csv')"
   ]
  },
  {
   "cell_type": "code",
   "execution_count": null,
   "metadata": {},
   "outputs": [],
   "source": [
    "# Emily's List/Women Vote committee transactions 2010-2022\n",
    "sql = '''SELECT cm.cmte_id, cm.cmte_nm, ct.\"name\", cm.file_year, ct.other_id, sum(ct.transaction_amt)\n",
    "FROM committee_master cm \n",
    "LEFT JOIN committee_transactions ct ON ct.cmte_id=cm.cmte_id AND ct.file_year=cm.file_year\n",
    "WHERE cm.cmte_nm LIKE 'EMILY%LIST%' AND cm.file_year=2022 OR cm.cmte_nm LIKE 'EMILY%LIST%' AND cm.file_year=2020 OR cm.cmte_nm LIKE 'EMILY%LIST%' AND cm.file_year=2018 OR cm.cmte_nm LIKE 'EMILY%LIST%' AND cm.file_year=2016 OR cm.cmte_nm LIKE 'EMILY%LIST%' AND cm.file_year=2014 OR cm.cmte_nm LIKE 'EMILY%LIST%' AND cm.file_year=2012 OR cm.cmte_nm LIKE 'EMILY%LIST%' AND cm.file_year=2010 OR cm.cmte_nm LIKE 'WOMEN%VOTE%' AND cm.file_year=2022 OR cm.cmte_nm LIKE 'WOMEN%VOTE%' AND cm.file_year=2020 OR cm.cmte_nm LIKE 'WOMEN%VOTE%' AND cm.file_year=2018 OR cm.cmte_nm LIKE 'WOMEN%VOTE%' AND cm.file_year=2016 OR cm.cmte_nm LIKE 'WOMEN%VOTE%' AND cm.file_year=2014 OR cm.cmte_nm LIKE 'WOMEN%VOTE%' AND cm.file_year=2012 OR cm.cmte_nm LIKE 'WOMEN%VOTE%' AND cm.file_year=2010\n",
    "GROUP BY cm.cmte_id, cm.cmte_nm, ct.\"name\", ct.other_id, cm.file_year\n",
    "ORDER BY SUM DESC NULLS LAST;'''\n",
    "emilys_list_committee_transactions = pd.read_sql(sql, con=conn)\n",
    "emilys_list_committee_transactions.head(5)"
   ]
  },
  {
   "cell_type": "code",
   "execution_count": null,
   "metadata": {},
   "outputs": [],
   "source": [
    "emilys_list_committee_transactions.to_csv('data/emilys_list_committee_transactions_2010_2022.csv')"
   ]
  },
  {
   "cell_type": "code",
   "execution_count": null,
   "metadata": {},
   "outputs": [],
   "source": [
    "# NARAL Pro-Choice committee transactions 2010-2022\n",
    "sql = '''SELECT cm.cmte_id, cm.cmte_nm, ct.\"name\", cm.file_year, ct.other_id, sum(ct.transaction_amt)\n",
    "FROM committee_master cm \n",
    "LEFT JOIN committee_transactions ct ON ct.cmte_id=cm.cmte_id AND ct.file_year=cm.file_year\n",
    "WHERE cm.cmte_nm LIKE 'NARAL%PRO%' AND cm.file_year=2022 OR cm.cmte_nm LIKE 'NARAL%PRO%' AND cm.file_year=2020 OR cm.cmte_nm LIKE 'NARAL%PRO%' AND cm.file_year=2018 OR cm.cmte_nm LIKE 'NARAL%PRO%' AND cm.file_year=2016 OR cm.cmte_nm LIKE 'NARAL%PRO%' AND cm.file_year=2014 OR cm.cmte_nm LIKE 'NARAL%PRO%' AND cm.file_year=2012 OR cm.cmte_nm LIKE 'NARAL%PRO%' AND cm.file_year=2010 \n",
    "GROUP BY cm.cmte_id, cm.cmte_nm, ct.\"name\", ct.other_id, cm.file_year\n",
    "ORDER BY SUM DESC NULLS LAST;'''\n",
    "naral_committee_transactions = pd.read_sql(sql, con=conn)\n",
    "naral_committee_transactions.head(5)"
   ]
  },
  {
   "cell_type": "code",
   "execution_count": null,
   "metadata": {},
   "outputs": [],
   "source": [
    "naral_committee_transactions.to_csv('data/naral_committee_transactions_2010_2022.csv')"
   ]
  },
  {
   "cell_type": "markdown",
   "metadata": {},
   "source": [
    "### Looking at the PAC summaries"
   ]
  },
  {
   "cell_type": "code",
   "execution_count": null,
   "metadata": {},
   "outputs": [],
   "source": [
    "# Emily's List/Women Vote PAC summary 2010-2022\n",
    "sql = '''SELECT * \n",
    "FROM pac_summary ps\n",
    "WHERE ps.cmte_nm LIKE 'EMILY%LIST%' AND ps.file_year=2022 OR ps.cmte_nm LIKE 'WOMEN%VOTE%' AND ps.file_year=2022 OR ps.cmte_nm LIKE 'EMILY%LIST%' AND ps.file_year=2020 OR ps.cmte_nm LIKE 'WOMEN%VOTE%' AND ps.file_year=2020 OR ps.cmte_nm LIKE 'EMILY%LIST%' AND ps.file_year=2018 OR ps.cmte_nm LIKE 'WOMEN%VOTE%' AND ps.file_year=2018 OR ps.cmte_nm LIKE 'EMILY%LIST%' AND ps.file_year=2016 OR ps.cmte_nm LIKE 'WOMEN%VOTE%' AND ps.file_year=2016 OR ps.cmte_nm LIKE 'EMILY%LIST%' AND ps.file_year=2014 OR ps.cmte_nm LIKE 'WOMEN%VOTE%' AND ps.file_year=2014 OR ps.cmte_nm LIKE 'EMILY%LIST%' AND ps.file_year=2012 OR ps.cmte_nm LIKE 'WOMEN%VOTE%' AND ps.file_year=2012 OR ps.cmte_nm LIKE 'EMILY%LIST%' AND ps.file_year=2010 OR ps.cmte_nm LIKE 'WOMEN%VOTE%' AND ps.file_year=2010'''\n",
    "emilys_list_pac_summary = pd.read_sql(sql, con=conn)\n",
    "emilys_list_pac_summary.head(5)"
   ]
  },
  {
   "cell_type": "code",
   "execution_count": null,
   "metadata": {},
   "outputs": [],
   "source": [
    "emilys_list_pac_summary.to_csv('data/emilys_list_pac_summary_2010_2022.csv')"
   ]
  },
  {
   "cell_type": "code",
   "execution_count": null,
   "metadata": {},
   "outputs": [],
   "source": [
    "# Planned Parenthood PAC summary 2010-2022\n",
    "sql = '''SELECT * \n",
    "FROM pac_summary ps\n",
    "WHERE ps.cmte_nm LIKE '%PLANNED%PARENT%' AND ps.file_year=2022 OR ps.cmte_nm LIKE '%PLANNED%PARENT%' AND ps.file_year=2020 OR ps.cmte_nm LIKE '%PLANNED%PARENT%' AND ps.file_year=2018 OR ps.cmte_nm LIKE '%PLANNED%PARENT%' AND ps.file_year=2016 OR ps.cmte_nm LIKE '%PLANNED%PARENT%' AND ps.file_year=2014 OR ps.cmte_nm LIKE '%PLANNED%PARENT%' AND ps.file_year=2012 OR ps.cmte_nm LIKE '%PLANNED%PARENT%' AND ps.file_year=2010'''\n",
    "planned_parenthood_pac_summary = pd.read_sql(sql, con=conn)\n",
    "planned_parenthood_pac_summary.head(5)"
   ]
  },
  {
   "cell_type": "code",
   "execution_count": null,
   "metadata": {},
   "outputs": [],
   "source": [
    "planned_parenthood_pac_summary.to_csv('data/planned_parenthood_pac_summary_2010_2022.csv')"
   ]
  },
  {
   "cell_type": "code",
   "execution_count": null,
   "metadata": {},
   "outputs": [],
   "source": [
    "# Naral Pro-Choice summary 2010-2022\n",
    "sql = '''SELECT * \n",
    "FROM pac_summary ps\n",
    "WHERE ps.cmte_nm LIKE 'NARAL%PRO%' AND ps.file_year=2022 OR ps.cmte_nm LIKE 'NARAL%PRO%' AND ps.file_year=2020 OR ps.cmte_nm LIKE 'NARAL%PRO%' AND ps.file_year=2018 OR ps.cmte_nm LIKE 'NARAL%PRO%' AND ps.file_year=2016 OR ps.cmte_nm LIKE 'NARAL%PRO%' AND ps.file_year=2014 OR ps.cmte_nm LIKE 'NARAL%PRO%' AND ps.file_year=2012 OR ps.cmte_nm LIKE 'NARAL%PRO%' AND ps.file_year=2010'''\n",
    "naral_pac_summary = pd.read_sql(sql, con=conn)\n",
    "naral_pac_summary.head(5)"
   ]
  },
  {
   "cell_type": "code",
   "execution_count": null,
   "metadata": {},
   "outputs": [],
   "source": [
    "naral_pac_summary.to_csv('data/naral_pac_summary_2010_2022.csv')"
   ]
  },
  {
   "cell_type": "markdown",
   "metadata": {},
   "source": [
    "# ggplot example"
   ]
  },
  {
   "cell_type": "code",
   "execution_count": null,
   "metadata": {},
   "outputs": [],
   "source": [
    "%%R\n",
    "\n",
    "require(tidyverse)\n",
    "require(ggbeeswarm)\n",
    "require(ggrepel)"
   ]
  },
  {
   "cell_type": "code",
   "execution_count": null,
   "metadata": {},
   "outputs": [],
   "source": [
    "%%R -i house_senate_current_campaigns -w 1000\n",
    "\n",
    "df <- house_senate_current_campaigns\n",
    "\n",
    "ggplot(df) +\n",
    "    aes(x=ttl_disb, y=NA, alpha=.005, label=cand_name) +\n",
    "    geom_quasirandom(size=4) +\n",
    "    geom_label_repel(data=df %>% filter(ttl_disb > 1e+07)) "
   ]
  },
  {
   "cell_type": "code",
   "execution_count": null,
   "metadata": {},
   "outputs": [],
   "source": [
    "house_senate_current_campaigns.sort_values(by='ttl_disb', ascending=False)"
   ]
  },
  {
   "cell_type": "markdown",
   "metadata": {},
   "source": [
    "# close database connections"
   ]
  },
  {
   "cell_type": "code",
   "execution_count": null,
   "metadata": {},
   "outputs": [],
   "source": [
    "# Close the connection\n",
    "cursor.close()\n",
    "conn.close()"
   ]
  }
 ],
 "metadata": {
  "kernelspec": {
   "display_name": "Python 3.11.0rc2 64-bit ('3.11.0rc2')",
   "language": "python",
   "name": "python3"
  },
  "language_info": {
   "codemirror_mode": {
    "name": "ipython",
    "version": 3
   },
   "file_extension": ".py",
   "mimetype": "text/x-python",
   "name": "python",
   "nbconvert_exporter": "python",
   "pygments_lexer": "ipython3",
   "version": "3.11.0rc2"
  },
  "vscode": {
   "interpreter": {
    "hash": "fa07e5dff76123542c28abca75c0e47ea742948dbeeb360ccfbd2a5c7c277f8b"
   }
  }
 },
 "nbformat": 4,
 "nbformat_minor": 4
}
